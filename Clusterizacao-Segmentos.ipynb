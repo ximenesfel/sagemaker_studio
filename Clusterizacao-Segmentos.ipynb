{
 "cells": [
  {
   "cell_type": "markdown",
   "metadata": {},
   "source": [
    "### Segmentação de Clientes"
   ]
  },
  {
   "cell_type": "markdown",
   "metadata": {},
   "source": [
    "> Neste trabalho, usaremos o banco de dados da Olist com K-means para identificar a frequência, recência e receita dos consumidores e agrupa-los em categorias de compras. Assim podemos fazer campanhas de marketing específicas, além de criar programas de recompensas para os clientes que mais consomem."
   ]
  },
  {
   "cell_type": "code",
   "execution_count": 29,
   "metadata": {},
   "outputs": [],
   "source": [
    "import pandas as pd\n",
    "import numpy as np\n",
    "import matplotlib as mpl\n",
    "import matplotlib.pyplot as plt\n",
    "import seaborn as sns\n",
    "import datetime"
   ]
  },
  {
   "cell_type": "code",
   "execution_count": 30,
   "metadata": {},
   "outputs": [],
   "source": [
    "df=pd.read_csv('BancoDeDados.csv')"
   ]
  },
  {
   "cell_type": "code",
   "execution_count": 31,
   "metadata": {},
   "outputs": [
    {
     "name": "stdout",
     "output_type": "stream",
     "text": [
      "<class 'pandas.core.frame.DataFrame'>\n",
      "RangeIndex: 116581 entries, 0 to 116580\n",
      "Data columns (total 27 columns):\n",
      "amostra                 116581 non-null int64\n",
      "id_cliente              116581 non-null object\n",
      "id_unico_cliente        116581 non-null object\n",
      "item_id                 116581 non-null int64\n",
      "cep_cliente             116581 non-null int64\n",
      "cidade_cliente          116581 non-null object\n",
      "estado_cliente          116581 non-null object\n",
      "id_pedido               116581 non-null object\n",
      "status_pedido           116581 non-null object\n",
      "horario_pedido          116581 non-null object\n",
      "pedido_aprovado         116567 non-null object\n",
      "pedido_entregador       115368 non-null object\n",
      "pedido_entregue         114066 non-null object\n",
      "data_estimada           116581 non-null object\n",
      "id_vendedor             116581 non-null object\n",
      "preco                   116581 non-null float64\n",
      "frete                   116581 non-null float64\n",
      "pagamento_sequencial    116581 non-null int64\n",
      "pagamento_tipo          116581 non-null object\n",
      "pagamento_prestacoes    116581 non-null int64\n",
      "pagamento_valor         116581 non-null float64\n",
      "review                  116581 non-null int64\n",
      "categoria               116581 non-null object\n",
      "categoria_ingles        116581 non-null object\n",
      "cep_vendedor            116581 non-null int64\n",
      "cidade_vendedor         116581 non-null object\n",
      "estado_vendedor         116581 non-null object\n",
      "dtypes: float64(3), int64(7), object(17)\n",
      "memory usage: 24.0+ MB\n"
     ]
    }
   ],
   "source": [
    "df.info()"
   ]
  },
  {
   "cell_type": "code",
   "execution_count": 32,
   "metadata": {},
   "outputs": [
    {
     "data": {
      "text/html": [
       "<div>\n",
       "<style scoped>\n",
       "    .dataframe tbody tr th:only-of-type {\n",
       "        vertical-align: middle;\n",
       "    }\n",
       "\n",
       "    .dataframe tbody tr th {\n",
       "        vertical-align: top;\n",
       "    }\n",
       "\n",
       "    .dataframe thead th {\n",
       "        text-align: right;\n",
       "    }\n",
       "</style>\n",
       "<table border=\"1\" class=\"dataframe\">\n",
       "  <thead>\n",
       "    <tr style=\"text-align: right;\">\n",
       "      <th></th>\n",
       "      <th>amostra</th>\n",
       "      <th>id_cliente</th>\n",
       "      <th>id_unico_cliente</th>\n",
       "      <th>item_id</th>\n",
       "      <th>cep_cliente</th>\n",
       "      <th>cidade_cliente</th>\n",
       "      <th>estado_cliente</th>\n",
       "      <th>id_pedido</th>\n",
       "      <th>status_pedido</th>\n",
       "      <th>horario_pedido</th>\n",
       "      <th>...</th>\n",
       "      <th>pagamento_sequencial</th>\n",
       "      <th>pagamento_tipo</th>\n",
       "      <th>pagamento_prestacoes</th>\n",
       "      <th>pagamento_valor</th>\n",
       "      <th>review</th>\n",
       "      <th>categoria</th>\n",
       "      <th>categoria_ingles</th>\n",
       "      <th>cep_vendedor</th>\n",
       "      <th>cidade_vendedor</th>\n",
       "      <th>estado_vendedor</th>\n",
       "    </tr>\n",
       "  </thead>\n",
       "  <tbody>\n",
       "    <tr>\n",
       "      <th>0</th>\n",
       "      <td>0</td>\n",
       "      <td>06b8999e2fba1a1fbc88172c00ba8bc7</td>\n",
       "      <td>861eff4711a542e4b93843c6dd7febb0</td>\n",
       "      <td>1</td>\n",
       "      <td>14409</td>\n",
       "      <td>franca</td>\n",
       "      <td>SP</td>\n",
       "      <td>00e7ee1b050b8499577073aeb2a297a1</td>\n",
       "      <td>delivered</td>\n",
       "      <td>2017-05-16 15:05:35</td>\n",
       "      <td>...</td>\n",
       "      <td>1</td>\n",
       "      <td>credit_card</td>\n",
       "      <td>2</td>\n",
       "      <td>146.87</td>\n",
       "      <td>4</td>\n",
       "      <td>moveis_escritorio</td>\n",
       "      <td>office_furniture</td>\n",
       "      <td>8577</td>\n",
       "      <td>itaquaquecetuba</td>\n",
       "      <td>SP</td>\n",
       "    </tr>\n",
       "    <tr>\n",
       "      <th>1</th>\n",
       "      <td>1</td>\n",
       "      <td>8912fc0c3bbf1e2fbf35819e21706718</td>\n",
       "      <td>9eae34bbd3a474ec5d07949ca7de67c0</td>\n",
       "      <td>1</td>\n",
       "      <td>68030</td>\n",
       "      <td>santarem</td>\n",
       "      <td>PA</td>\n",
       "      <td>c1d2b34febe9cd269e378117d6681172</td>\n",
       "      <td>delivered</td>\n",
       "      <td>2017-11-09 00:50:13</td>\n",
       "      <td>...</td>\n",
       "      <td>1</td>\n",
       "      <td>credit_card</td>\n",
       "      <td>1</td>\n",
       "      <td>275.79</td>\n",
       "      <td>1</td>\n",
       "      <td>moveis_escritorio</td>\n",
       "      <td>office_furniture</td>\n",
       "      <td>8577</td>\n",
       "      <td>itaquaquecetuba</td>\n",
       "      <td>SP</td>\n",
       "    </tr>\n",
       "    <tr>\n",
       "      <th>2</th>\n",
       "      <td>2</td>\n",
       "      <td>8912fc0c3bbf1e2fbf35819e21706718</td>\n",
       "      <td>9eae34bbd3a474ec5d07949ca7de67c0</td>\n",
       "      <td>2</td>\n",
       "      <td>68030</td>\n",
       "      <td>santarem</td>\n",
       "      <td>PA</td>\n",
       "      <td>c1d2b34febe9cd269e378117d6681172</td>\n",
       "      <td>delivered</td>\n",
       "      <td>2017-11-09 00:50:13</td>\n",
       "      <td>...</td>\n",
       "      <td>1</td>\n",
       "      <td>credit_card</td>\n",
       "      <td>1</td>\n",
       "      <td>275.79</td>\n",
       "      <td>1</td>\n",
       "      <td>moveis_escritorio</td>\n",
       "      <td>office_furniture</td>\n",
       "      <td>8577</td>\n",
       "      <td>itaquaquecetuba</td>\n",
       "      <td>SP</td>\n",
       "    </tr>\n",
       "    <tr>\n",
       "      <th>3</th>\n",
       "      <td>3</td>\n",
       "      <td>f0ac8e5a239118859b1734e1087cbb1f</td>\n",
       "      <td>3c799d181c34d51f6d44bbbc563024db</td>\n",
       "      <td>1</td>\n",
       "      <td>92480</td>\n",
       "      <td>nova santa rita</td>\n",
       "      <td>RS</td>\n",
       "      <td>b1a5d5365d330d10485e0203d54ab9e8</td>\n",
       "      <td>delivered</td>\n",
       "      <td>2017-05-07 20:11:26</td>\n",
       "      <td>...</td>\n",
       "      <td>1</td>\n",
       "      <td>credit_card</td>\n",
       "      <td>7</td>\n",
       "      <td>140.61</td>\n",
       "      <td>3</td>\n",
       "      <td>moveis_escritorio</td>\n",
       "      <td>office_furniture</td>\n",
       "      <td>8577</td>\n",
       "      <td>itaquaquecetuba</td>\n",
       "      <td>SP</td>\n",
       "    </tr>\n",
       "    <tr>\n",
       "      <th>4</th>\n",
       "      <td>4</td>\n",
       "      <td>6bc8d08963a135220ed6c6d098831f84</td>\n",
       "      <td>23397e992b09769faf5e66f9e171a241</td>\n",
       "      <td>1</td>\n",
       "      <td>25931</td>\n",
       "      <td>mage</td>\n",
       "      <td>RJ</td>\n",
       "      <td>2e604b3614664aa66867856dba7e61b7</td>\n",
       "      <td>delivered</td>\n",
       "      <td>2018-02-03 19:45:40</td>\n",
       "      <td>...</td>\n",
       "      <td>1</td>\n",
       "      <td>credit_card</td>\n",
       "      <td>10</td>\n",
       "      <td>137.58</td>\n",
       "      <td>4</td>\n",
       "      <td>moveis_escritorio</td>\n",
       "      <td>office_furniture</td>\n",
       "      <td>8577</td>\n",
       "      <td>itaquaquecetuba</td>\n",
       "      <td>SP</td>\n",
       "    </tr>\n",
       "  </tbody>\n",
       "</table>\n",
       "<p>5 rows × 27 columns</p>\n",
       "</div>"
      ],
      "text/plain": [
       "   amostra                        id_cliente  \\\n",
       "0        0  06b8999e2fba1a1fbc88172c00ba8bc7   \n",
       "1        1  8912fc0c3bbf1e2fbf35819e21706718   \n",
       "2        2  8912fc0c3bbf1e2fbf35819e21706718   \n",
       "3        3  f0ac8e5a239118859b1734e1087cbb1f   \n",
       "4        4  6bc8d08963a135220ed6c6d098831f84   \n",
       "\n",
       "                   id_unico_cliente  item_id  cep_cliente   cidade_cliente  \\\n",
       "0  861eff4711a542e4b93843c6dd7febb0        1        14409           franca   \n",
       "1  9eae34bbd3a474ec5d07949ca7de67c0        1        68030         santarem   \n",
       "2  9eae34bbd3a474ec5d07949ca7de67c0        2        68030         santarem   \n",
       "3  3c799d181c34d51f6d44bbbc563024db        1        92480  nova santa rita   \n",
       "4  23397e992b09769faf5e66f9e171a241        1        25931             mage   \n",
       "\n",
       "  estado_cliente                         id_pedido status_pedido  \\\n",
       "0             SP  00e7ee1b050b8499577073aeb2a297a1     delivered   \n",
       "1             PA  c1d2b34febe9cd269e378117d6681172     delivered   \n",
       "2             PA  c1d2b34febe9cd269e378117d6681172     delivered   \n",
       "3             RS  b1a5d5365d330d10485e0203d54ab9e8     delivered   \n",
       "4             RJ  2e604b3614664aa66867856dba7e61b7     delivered   \n",
       "\n",
       "        horario_pedido  ... pagamento_sequencial pagamento_tipo  \\\n",
       "0  2017-05-16 15:05:35  ...                    1    credit_card   \n",
       "1  2017-11-09 00:50:13  ...                    1    credit_card   \n",
       "2  2017-11-09 00:50:13  ...                    1    credit_card   \n",
       "3  2017-05-07 20:11:26  ...                    1    credit_card   \n",
       "4  2018-02-03 19:45:40  ...                    1    credit_card   \n",
       "\n",
       "  pagamento_prestacoes pagamento_valor review          categoria  \\\n",
       "0                    2          146.87      4  moveis_escritorio   \n",
       "1                    1          275.79      1  moveis_escritorio   \n",
       "2                    1          275.79      1  moveis_escritorio   \n",
       "3                    7          140.61      3  moveis_escritorio   \n",
       "4                   10          137.58      4  moveis_escritorio   \n",
       "\n",
       "   categoria_ingles  cep_vendedor  cidade_vendedor  estado_vendedor  \n",
       "0  office_furniture          8577  itaquaquecetuba               SP  \n",
       "1  office_furniture          8577  itaquaquecetuba               SP  \n",
       "2  office_furniture          8577  itaquaquecetuba               SP  \n",
       "3  office_furniture          8577  itaquaquecetuba               SP  \n",
       "4  office_furniture          8577  itaquaquecetuba               SP  \n",
       "\n",
       "[5 rows x 27 columns]"
      ]
     },
     "execution_count": 32,
     "metadata": {},
     "output_type": "execute_result"
    }
   ],
   "source": [
    "df.head()"
   ]
  },
  {
   "cell_type": "markdown",
   "metadata": {},
   "source": [
    "### Análise Exploratória"
   ]
  },
  {
   "cell_type": "code",
   "execution_count": 33,
   "metadata": {},
   "outputs": [],
   "source": [
    "def plot_perc(st,dados):\n",
    "    plt.figure(figsize=(20,8))\n",
    "\n",
    "    g = sns.countplot(x=st, data=dados, orient='h')\n",
    "    g.set_title(\"Distribuição do estado dos clientes\", fontsize=20)\n",
    "    g.set_xlabel(\"Estado\", fontsize=17)\n",
    "    g.set_ylabel(\"Contagem\", fontsize=17)\n",
    "    g.set_xticklabels(g.get_xticklabels(),rotation=45)\n",
    "    sizes = []\n",
    "    for p in g.patches:\n",
    "        height = p.get_height()\n",
    "        sizes.append(height)\n",
    "        g.text(p.get_x()+p.get_width()/1.6,\n",
    "            height + 200,\n",
    "            '{:1.2f}%'.format(height/116581*100),\n",
    "            ha=\"center\", va='bottom',fontsize=12) \n",
    "    g.set_ylim(0, max(sizes) * 1.1)"
   ]
  },
  {
   "cell_type": "code",
   "execution_count": 34,
   "metadata": {},
   "outputs": [
    {
     "data": {
      "image/png": "[encoded data removed]",
      "text/plain": [
       "<Figure size 1440x576 with 1 Axes>"
      ]
     },
     "metadata": {
      "needs_background": "light"
     },
     "output_type": "display_data"
    }
   ],
   "source": [
    "plot_perc('estado_cliente',df)"
   ]
  },
  {
   "cell_type": "code",
   "execution_count": 35,
   "metadata": {},
   "outputs": [
    {
     "data": {
      "image/png": "[encoded data removed]",
      "text/plain": [
       "<Figure size 1440x576 with 1 Axes>"
      ]
     },
     "metadata": {
      "needs_background": "light"
     },
     "output_type": "display_data"
    }
   ],
   "source": [
    "plot_perc('estado_vendedor',df)"
   ]
  },
  {
   "cell_type": "code",
   "execution_count": 36,
   "metadata": {},
   "outputs": [
    {
     "data": {
      "image/png": "[encoded data removed]",
      "text/plain": [
       "<Figure size 1440x576 with 1 Axes>"
      ]
     },
     "metadata": {
      "needs_background": "light"
     },
     "output_type": "display_data"
    }
   ],
   "source": [
    "plot_perc('pagamento_tipo',df)"
   ]
  },
  {
   "cell_type": "markdown",
   "metadata": {},
   "source": [
    "- Identificamos primeiramente que a maioria dos clientes realiza compras por cartão de crédito, posteriormente por boleto, voucher e cartão de débito. Seria interessante aumentar as promoções para pagamento à vista (para aumento dos pagamentos com boleto ou cartão de débito).\n",
    "- Também percebe-se que a maioria dos vendedores e compradores estão em SP."
   ]
  },
  {
   "cell_type": "markdown",
   "metadata": {},
   "source": [
    "> Agora que temos um banco de dados completo, podemos salva-lo para utilizar posteriormente. Também vou criar um novo banco de dados apenas com as informações que vou precisar para fazer a análise de recẽncia, frequência e receita."
   ]
  },
  {
   "cell_type": "code",
   "execution_count": 37,
   "metadata": {},
   "outputs": [],
   "source": [
    "df_olist = df[['id_unico_cliente', 'id_cliente', 'horario_pedido', 'item_id', 'preco']]"
   ]
  },
  {
   "cell_type": "code",
   "execution_count": 38,
   "metadata": {},
   "outputs": [],
   "source": [
    "df_compra = df.groupby('id_unico_cliente').horario_pedido.max().reset_index()\n",
    "df_compra.columns = ['id_unico_cliente', 'DataMaxCompra']"
   ]
  },
  {
   "cell_type": "code",
   "execution_count": 39,
   "metadata": {},
   "outputs": [],
   "source": [
    "df_compra['DataMaxCompra']= pd.to_datetime(df_compra['DataMaxCompra']) "
   ]
  },
  {
   "cell_type": "markdown",
   "metadata": {},
   "source": [
    "> Precisamos definir agora as três variáveis que utilizaremos para segmentação: **recência**, **frequência** e **receita**. Em inglês, é chamado de método RFM. Este é um método utilizado para analisar o comportamento do cliente e definir segmentos de mercado. :\n",
    "\n",
    "> - Recência: quão recentemente um cliente fez uma compra. É um importante preditor, pois um cliente que comprou há pouco tempo tem mais chance de voltar a comprar do que aquele que comprou há muito tempo, além de apresentar uma probabilidade maior de responder a promoções.\n",
    "- Frequência: com que frequência um cliente faz uma compra.  Se um cliente compra frequentemente, espera-se que ele volte a comprar.\n",
    "- Receita: quanto dinheiro um cliente gasta em compras. Aqueles clientes que gastaram muito têm mais valor para a organização em comparação com aqueles que gastaram menos"
   ]
  },
  {
   "cell_type": "code",
   "execution_count": 40,
   "metadata": {},
   "outputs": [
    {
     "data": {
      "text/html": [
       "<div>\n",
       "<style scoped>\n",
       "    .dataframe tbody tr th:only-of-type {\n",
       "        vertical-align: middle;\n",
       "    }\n",
       "\n",
       "    .dataframe tbody tr th {\n",
       "        vertical-align: top;\n",
       "    }\n",
       "\n",
       "    .dataframe thead th {\n",
       "        text-align: right;\n",
       "    }\n",
       "</style>\n",
       "<table border=\"1\" class=\"dataframe\">\n",
       "  <thead>\n",
       "    <tr style=\"text-align: right;\">\n",
       "      <th></th>\n",
       "      <th>id_unico_cliente</th>\n",
       "      <th>id_cliente</th>\n",
       "      <th>horario_pedido</th>\n",
       "      <th>item_id</th>\n",
       "      <th>preco</th>\n",
       "      <th>Recencia</th>\n",
       "    </tr>\n",
       "  </thead>\n",
       "  <tbody>\n",
       "    <tr>\n",
       "      <th>0</th>\n",
       "      <td>861eff4711a542e4b93843c6dd7febb0</td>\n",
       "      <td>06b8999e2fba1a1fbc88172c00ba8bc7</td>\n",
       "      <td>2017-05-16 15:05:35</td>\n",
       "      <td>1</td>\n",
       "      <td>124.99</td>\n",
       "      <td>474</td>\n",
       "    </tr>\n",
       "    <tr>\n",
       "      <th>1</th>\n",
       "      <td>9eae34bbd3a474ec5d07949ca7de67c0</td>\n",
       "      <td>8912fc0c3bbf1e2fbf35819e21706718</td>\n",
       "      <td>2017-11-09 00:50:13</td>\n",
       "      <td>1</td>\n",
       "      <td>112.99</td>\n",
       "      <td>298</td>\n",
       "    </tr>\n",
       "    <tr>\n",
       "      <th>2</th>\n",
       "      <td>9eae34bbd3a474ec5d07949ca7de67c0</td>\n",
       "      <td>8912fc0c3bbf1e2fbf35819e21706718</td>\n",
       "      <td>2017-11-09 00:50:13</td>\n",
       "      <td>2</td>\n",
       "      <td>112.99</td>\n",
       "      <td>298</td>\n",
       "    </tr>\n",
       "    <tr>\n",
       "      <th>3</th>\n",
       "      <td>3c799d181c34d51f6d44bbbc563024db</td>\n",
       "      <td>f0ac8e5a239118859b1734e1087cbb1f</td>\n",
       "      <td>2017-05-07 20:11:26</td>\n",
       "      <td>1</td>\n",
       "      <td>124.99</td>\n",
       "      <td>483</td>\n",
       "    </tr>\n",
       "    <tr>\n",
       "      <th>4</th>\n",
       "      <td>23397e992b09769faf5e66f9e171a241</td>\n",
       "      <td>6bc8d08963a135220ed6c6d098831f84</td>\n",
       "      <td>2018-02-03 19:45:40</td>\n",
       "      <td>1</td>\n",
       "      <td>106.99</td>\n",
       "      <td>211</td>\n",
       "    </tr>\n",
       "  </tbody>\n",
       "</table>\n",
       "</div>"
      ],
      "text/plain": [
       "                   id_unico_cliente                        id_cliente  \\\n",
       "0  861eff4711a542e4b93843c6dd7febb0  06b8999e2fba1a1fbc88172c00ba8bc7   \n",
       "1  9eae34bbd3a474ec5d07949ca7de67c0  8912fc0c3bbf1e2fbf35819e21706718   \n",
       "2  9eae34bbd3a474ec5d07949ca7de67c0  8912fc0c3bbf1e2fbf35819e21706718   \n",
       "3  3c799d181c34d51f6d44bbbc563024db  f0ac8e5a239118859b1734e1087cbb1f   \n",
       "4  23397e992b09769faf5e66f9e171a241  6bc8d08963a135220ed6c6d098831f84   \n",
       "\n",
       "        horario_pedido  item_id   preco  Recencia  \n",
       "0  2017-05-16 15:05:35        1  124.99       474  \n",
       "1  2017-11-09 00:50:13        1  112.99       298  \n",
       "2  2017-11-09 00:50:13        2  112.99       298  \n",
       "3  2017-05-07 20:11:26        1  124.99       483  \n",
       "4  2018-02-03 19:45:40        1  106.99       211  "
      ]
     },
     "execution_count": 40,
     "metadata": {},
     "output_type": "execute_result"
    }
   ],
   "source": [
    "#seleciona o ponto de observação como a data máxima de compra em nosso df\n",
    "df_compra['Recencia'] = (df_compra['DataMaxCompra'].max() - df_compra['DataMaxCompra']).dt.days\n",
    "\n",
    "#junta esse df com o nosso novo chamado df_user\n",
    "df_usuario = pd.merge(df_olist, df_compra[['id_unico_cliente','Recencia']], on='id_unico_cliente')\n",
    "\n",
    "df_usuario.head()"
   ]
  },
  {
   "cell_type": "code",
   "execution_count": 41,
   "metadata": {},
   "outputs": [],
   "source": [
    "# plotando a distribuição da feature continua que acabamos de identificar\n",
    "#def dist(dados):\n",
    "#    sns.set(palette='muted', color_codes=True, style='white')\n",
    "#    fig, ax = plt.subplots(figsize=(12, 6))\n",
    "#    sns.despine(left=True)\n",
    "#    sns.distplot(dados, bins=30)\n",
    "#    plt.show()"
   ]
  },
  {
   "cell_type": "code",
   "execution_count": 42,
   "metadata": {},
   "outputs": [],
   "source": [
    "#dist(df_usuario['Recencia'])"
   ]
  },
  {
   "cell_type": "code",
   "execution_count": 43,
   "metadata": {},
   "outputs": [],
   "source": [
    "def calcular_wcss(data):\n",
    "    wcss = []\n",
    "    for k in range(1, 10):\n",
    "        kmeans = KMeans(n_clusters=k)\n",
    "        kmeans.fit(X=data)\n",
    "        data[\"clusters\"] = kmeans.labels_\n",
    "        wcss.append(kmeans.inertia_)\n",
    "    return wcss"
   ]
  },
  {
   "cell_type": "markdown",
   "metadata": {},
   "source": [
    "> Agora precisamos usar o Método Cotovelo, a ideia é rodar o KMeans para várias quantidades diferentes de clusters e dizer qual dessas quantidades é o número ótimo de clusters. Usando a \"regra do cotovelo\", identificamos que a partir de 4 clusters teremos bons resultados. Vou usar 5 apenas para garantir.\n",
    "\n",
    "> O que geralmente acontece ao aumentar a quantidade de clusters no KMeans é que as diferenças entre clusters se tornam muito pequenas, e as diferenças das observações intra-clusters vão aumentando. Então é preciso achar um equilíbrio em que as observações que formam cada agrupamento sejam o mais homogêneas possível e que os agrupamentos formados sejam o mais diferentes um dos outros."
   ]
  },
  {
   "cell_type": "code",
   "execution_count": 44,
   "metadata": {},
   "outputs": [],
   "source": [
    "import warnings\n",
    "warnings.filterwarnings(\"ignore\")\n",
    "import seaborn as sns\n",
    "from sklearn.cluster import KMeans\n",
    "\n",
    "df_recencia = df_usuario[['Recencia']]\n",
    "soma_quadrados = calcular_wcss(df_recencia)"
   ]
  },
  {
   "cell_type": "code",
   "execution_count": 45,
   "metadata": {},
   "outputs": [
    {
     "data": {
      "image/png": "[encoded data removed]",
      "text/plain": [
       "<Figure size 720x360 with 1 Axes>"
      ]
     },
     "metadata": {
      "needs_background": "light"
     },
     "output_type": "display_data"
    }
   ],
   "source": [
    "plt.figure(figsize=(10, 5))\n",
    "plt.plot(soma_quadrados)\n",
    "plt.xlabel(\"Número de Clusters\")\n",
    "plt.show()"
   ]
  },
  {
   "cell_type": "markdown",
   "metadata": {},
   "source": [
    "> Mas como podemos identificar se o melhor número de clusters é 3, 4 ou 5? Existe uma solução matemática! Primeiramente, definimos uma reta ligando o primeiro ponto (cluster 1) ao último ponto (cluster 9). Então, calculamos a distância de cada ponto até a reta usando a seguinte equação:"
   ]
  },
  {
   "cell_type": "markdown",
   "metadata": {},
   "source": [
    "![](https://miro.medium.com/max/2775/1*9J7Wnh5L0eIcHXBeWlzvNA.png)"
   ]
  },
  {
   "cell_type": "markdown",
   "metadata": {},
   "source": [
    "> Neste caso, P0 é o ponto do cluster 1 e P1 o ponto do cluster 9. O par (x,y) representa as coordenadas de qualquer ponto que a gente queira calcular a distância. Calculando todas as distância, conseguimos determinar o ponto ideal!"
   ]
  },
  {
   "cell_type": "code",
   "execution_count": 46,
   "metadata": {},
   "outputs": [],
   "source": [
    "import math\n",
    "def numero_otimo_clusters(wcss):\n",
    "    x1, y1 = 2, wcss[0]\n",
    "    x2, y2 = 20, wcss[len(wcss)-1]\n",
    "\n",
    "    distancias = []\n",
    "    for i in range(len(wcss)):\n",
    "        x0 = i+2\n",
    "        y0 = wcss[i]\n",
    "        numerador = abs((y2-y1)*x0 - (x2-x1)*y0 + x2*y1 - y2*x1)\n",
    "        denominador = math.sqrt((y2 - y1)**2 + (x2 - x1)**2)\n",
    "        distancias.append(numerador/denominador)\n",
    "    \n",
    "    return distancias.index(max(distancias)) + 2"
   ]
  },
  {
   "cell_type": "code",
   "execution_count": 47,
   "metadata": {},
   "outputs": [],
   "source": [
    "# calculando a soma dos quadrados para as quantidade de clusters\n",
    "soma_quadrados = calcular_wcss(df_recencia)\n",
    "\n",
    "# calculando a quantidade ótima de clusters\n",
    "n = numero_otimo_clusters(soma_quadrados)"
   ]
  },
  {
   "cell_type": "markdown",
   "metadata": {},
   "source": [
    "> E agora o número ideal de clusters!"
   ]
  },
  {
   "cell_type": "code",
   "execution_count": 48,
   "metadata": {},
   "outputs": [
    {
     "data": {
      "text/plain": [
       "4"
      ]
     },
     "execution_count": 48,
     "metadata": {},
     "output_type": "execute_result"
    }
   ],
   "source": [
    "n"
   ]
  },
  {
   "cell_type": "code",
   "execution_count": 49,
   "metadata": {},
   "outputs": [],
   "source": [
    "# rodando o kmeans para nossa quantidade ótima de clusters\n",
    "kmeans = KMeans(n_clusters=4)\n",
    "df_usuario['RecenciaCluster'] = kmeans.fit_predict(df_recencia)"
   ]
  },
  {
   "cell_type": "code",
   "execution_count": 57,
   "metadata": {},
   "outputs": [],
   "source": [
    "#função para ordenar o número de clusters \n",
    "def ordenar_cluster(cluster_nome, target_nome,df,ascending):\n",
    "    novo_nome = 'novo' + cluster_nome\n",
    "    agrupado_por_cluster = df.groupby(cluster_nome)[target_nome].mean().reset_index()\n",
    "    agrupado_por_cluster_ordenado = agrupado_por_cluster.sort_values(by=target_nome,\n",
    "                                                                     ascending=ascending).reset_index(drop=True)\n",
    "    agrupado_por_cluster_ordenado['index'] = agrupado_por_cluster_ordenado.index\n",
    "    juntando_cluster = pd.merge(df,agrupado_por_cluster_ordenado[[cluster_nome,'index']], on=cluster_nome)\n",
    "    removendo_dados = juntando_cluster.drop([cluster_nome],axis=1)\n",
    "    df_final = removendo_dados.rename(columns={\"index\":cluster_nome})\n",
    "    return df_final\n",
    "\n",
    "df_usuario = ordenar_cluster('RecenciaCluster', 'Recencia',df_usuario,False)"
   ]
  },
  {
   "cell_type": "code",
   "execution_count": 58,
   "metadata": {},
   "outputs": [
    {
     "data": {
      "text/html": [
       "<div>\n",
       "<style scoped>\n",
       "    .dataframe tbody tr th:only-of-type {\n",
       "        vertical-align: middle;\n",
       "    }\n",
       "\n",
       "    .dataframe tbody tr th {\n",
       "        vertical-align: top;\n",
       "    }\n",
       "\n",
       "    .dataframe thead th {\n",
       "        text-align: right;\n",
       "    }\n",
       "</style>\n",
       "<table border=\"1\" class=\"dataframe\">\n",
       "  <thead>\n",
       "    <tr style=\"text-align: right;\">\n",
       "      <th></th>\n",
       "      <th>count</th>\n",
       "      <th>mean</th>\n",
       "      <th>std</th>\n",
       "      <th>min</th>\n",
       "      <th>25%</th>\n",
       "      <th>50%</th>\n",
       "      <th>75%</th>\n",
       "      <th>max</th>\n",
       "    </tr>\n",
       "    <tr>\n",
       "      <th>RecenciaCluster</th>\n",
       "      <th></th>\n",
       "      <th></th>\n",
       "      <th></th>\n",
       "      <th></th>\n",
       "      <th></th>\n",
       "      <th></th>\n",
       "      <th></th>\n",
       "      <th></th>\n",
       "    </tr>\n",
       "  </thead>\n",
       "  <tbody>\n",
       "    <tr>\n",
       "      <th>0</th>\n",
       "      <td>20524.0</td>\n",
       "      <td>489.787907</td>\n",
       "      <td>59.600038</td>\n",
       "      <td>405.0</td>\n",
       "      <td>443.0</td>\n",
       "      <td>481.0</td>\n",
       "      <td>532.0</td>\n",
       "      <td>728.0</td>\n",
       "    </tr>\n",
       "    <tr>\n",
       "      <th>1</th>\n",
       "      <td>30757.0</td>\n",
       "      <td>319.404298</td>\n",
       "      <td>43.691600</td>\n",
       "      <td>254.0</td>\n",
       "      <td>281.0</td>\n",
       "      <td>313.0</td>\n",
       "      <td>356.0</td>\n",
       "      <td>404.0</td>\n",
       "    </tr>\n",
       "    <tr>\n",
       "      <th>2</th>\n",
       "      <td>33712.0</td>\n",
       "      <td>187.293338</td>\n",
       "      <td>35.169771</td>\n",
       "      <td>127.0</td>\n",
       "      <td>158.0</td>\n",
       "      <td>187.0</td>\n",
       "      <td>218.0</td>\n",
       "      <td>253.0</td>\n",
       "    </tr>\n",
       "    <tr>\n",
       "      <th>3</th>\n",
       "      <td>31588.0</td>\n",
       "      <td>66.405850</td>\n",
       "      <td>35.800016</td>\n",
       "      <td>0.0</td>\n",
       "      <td>33.0</td>\n",
       "      <td>67.0</td>\n",
       "      <td>99.0</td>\n",
       "      <td>126.0</td>\n",
       "    </tr>\n",
       "  </tbody>\n",
       "</table>\n",
       "</div>"
      ],
      "text/plain": [
       "                   count        mean        std    min    25%    50%    75%  \\\n",
       "RecenciaCluster                                                               \n",
       "0                20524.0  489.787907  59.600038  405.0  443.0  481.0  532.0   \n",
       "1                30757.0  319.404298  43.691600  254.0  281.0  313.0  356.0   \n",
       "2                33712.0  187.293338  35.169771  127.0  158.0  187.0  218.0   \n",
       "3                31588.0   66.405850  35.800016    0.0   33.0   67.0   99.0   \n",
       "\n",
       "                   max  \n",
       "RecenciaCluster         \n",
       "0                728.0  \n",
       "1                404.0  \n",
       "2                253.0  \n",
       "3                126.0  "
      ]
     },
     "execution_count": 58,
     "metadata": {},
     "output_type": "execute_result"
    }
   ],
   "source": [
    "df_usuario.groupby('RecenciaCluster')['Recencia'].describe()"
   ]
  },
  {
   "cell_type": "code",
   "execution_count": 59,
   "metadata": {},
   "outputs": [],
   "source": [
    "# cria um df com a quantidade de ordens para cada cliente\n",
    "df_frequencia = df.groupby('id_unico_cliente').pedido_aprovado.count().reset_index()\n",
    "df_frequencia.columns = ['id_unico_cliente','Frequencia']\n",
    "\n",
    "# adiciona esses dados em nosso df principal\n",
    "df_usuario = pd.merge(df_usuario, df_frequencia, on='id_unico_cliente')"
   ]
  },
  {
   "cell_type": "code",
   "execution_count": 60,
   "metadata": {},
   "outputs": [
    {
     "data": {
      "text/html": [
       "<div>\n",
       "<style scoped>\n",
       "    .dataframe tbody tr th:only-of-type {\n",
       "        vertical-align: middle;\n",
       "    }\n",
       "\n",
       "    .dataframe tbody tr th {\n",
       "        vertical-align: top;\n",
       "    }\n",
       "\n",
       "    .dataframe thead th {\n",
       "        text-align: right;\n",
       "    }\n",
       "</style>\n",
       "<table border=\"1\" class=\"dataframe\">\n",
       "  <thead>\n",
       "    <tr style=\"text-align: right;\">\n",
       "      <th></th>\n",
       "      <th>id_unico_cliente</th>\n",
       "      <th>id_cliente</th>\n",
       "      <th>horario_pedido</th>\n",
       "      <th>item_id</th>\n",
       "      <th>preco</th>\n",
       "      <th>Recencia</th>\n",
       "      <th>RecenciaCluster</th>\n",
       "      <th>Frequencia</th>\n",
       "    </tr>\n",
       "  </thead>\n",
       "  <tbody>\n",
       "    <tr>\n",
       "      <th>0</th>\n",
       "      <td>861eff4711a542e4b93843c6dd7febb0</td>\n",
       "      <td>06b8999e2fba1a1fbc88172c00ba8bc7</td>\n",
       "      <td>2017-05-16 15:05:35</td>\n",
       "      <td>1</td>\n",
       "      <td>124.99</td>\n",
       "      <td>474</td>\n",
       "      <td>0</td>\n",
       "      <td>1</td>\n",
       "    </tr>\n",
       "    <tr>\n",
       "      <th>1</th>\n",
       "      <td>3c799d181c34d51f6d44bbbc563024db</td>\n",
       "      <td>f0ac8e5a239118859b1734e1087cbb1f</td>\n",
       "      <td>2017-05-07 20:11:26</td>\n",
       "      <td>1</td>\n",
       "      <td>124.99</td>\n",
       "      <td>483</td>\n",
       "      <td>0</td>\n",
       "      <td>1</td>\n",
       "    </tr>\n",
       "    <tr>\n",
       "      <th>2</th>\n",
       "      <td>567ab47ca4deb92d46dbf54dce07d0a7</td>\n",
       "      <td>fd3a0b1bd209f0e7d420c9c3d1127613</td>\n",
       "      <td>2017-03-23 15:10:17</td>\n",
       "      <td>1</td>\n",
       "      <td>126.99</td>\n",
       "      <td>528</td>\n",
       "      <td>0</td>\n",
       "      <td>1</td>\n",
       "    </tr>\n",
       "    <tr>\n",
       "      <th>3</th>\n",
       "      <td>f40ab89b622248b7ca125af4b486b887</td>\n",
       "      <td>fbd40c083aa8cddebb5265b2ba6aaf2e</td>\n",
       "      <td>2017-05-16 10:00:49</td>\n",
       "      <td>1</td>\n",
       "      <td>124.99</td>\n",
       "      <td>474</td>\n",
       "      <td>0</td>\n",
       "      <td>1</td>\n",
       "    </tr>\n",
       "    <tr>\n",
       "      <th>4</th>\n",
       "      <td>749943913a9851a39c9baf51877fbab6</td>\n",
       "      <td>10558ef4afea173bfb5e2cbe3d5b0bb5</td>\n",
       "      <td>2017-03-18 23:04:36</td>\n",
       "      <td>1</td>\n",
       "      <td>126.99</td>\n",
       "      <td>533</td>\n",
       "      <td>0</td>\n",
       "      <td>1</td>\n",
       "    </tr>\n",
       "  </tbody>\n",
       "</table>\n",
       "</div>"
      ],
      "text/plain": [
       "                   id_unico_cliente                        id_cliente  \\\n",
       "0  861eff4711a542e4b93843c6dd7febb0  06b8999e2fba1a1fbc88172c00ba8bc7   \n",
       "1  3c799d181c34d51f6d44bbbc563024db  f0ac8e5a239118859b1734e1087cbb1f   \n",
       "2  567ab47ca4deb92d46dbf54dce07d0a7  fd3a0b1bd209f0e7d420c9c3d1127613   \n",
       "3  f40ab89b622248b7ca125af4b486b887  fbd40c083aa8cddebb5265b2ba6aaf2e   \n",
       "4  749943913a9851a39c9baf51877fbab6  10558ef4afea173bfb5e2cbe3d5b0bb5   \n",
       "\n",
       "        horario_pedido  item_id   preco  Recencia  RecenciaCluster  Frequencia  \n",
       "0  2017-05-16 15:05:35        1  124.99       474                0           1  \n",
       "1  2017-05-07 20:11:26        1  124.99       483                0           1  \n",
       "2  2017-03-23 15:10:17        1  126.99       528                0           1  \n",
       "3  2017-05-16 10:00:49        1  124.99       474                0           1  \n",
       "4  2017-03-18 23:04:36        1  126.99       533                0           1  "
      ]
     },
     "execution_count": 60,
     "metadata": {},
     "output_type": "execute_result"
    }
   ],
   "source": [
    "df_usuario.head()"
   ]
  },
  {
   "cell_type": "code",
   "execution_count": 61,
   "metadata": {},
   "outputs": [],
   "source": [
    "# rodando o kmeans para nossa quantidade ótima de clusters\n",
    "df_frequencia = df_usuario[['Frequencia']]\n",
    "kmeans = KMeans(n_clusters=4)\n",
    "df_usuario['FrequenciaCluster'] = kmeans.fit_predict(df_frequencia)"
   ]
  },
  {
   "cell_type": "code",
   "execution_count": 62,
   "metadata": {},
   "outputs": [
    {
     "data": {
      "text/html": [
       "<div>\n",
       "<style scoped>\n",
       "    .dataframe tbody tr th:only-of-type {\n",
       "        vertical-align: middle;\n",
       "    }\n",
       "\n",
       "    .dataframe tbody tr th {\n",
       "        vertical-align: top;\n",
       "    }\n",
       "\n",
       "    .dataframe thead th {\n",
       "        text-align: right;\n",
       "    }\n",
       "</style>\n",
       "<table border=\"1\" class=\"dataframe\">\n",
       "  <thead>\n",
       "    <tr style=\"text-align: right;\">\n",
       "      <th></th>\n",
       "      <th>count</th>\n",
       "      <th>mean</th>\n",
       "      <th>std</th>\n",
       "      <th>min</th>\n",
       "      <th>25%</th>\n",
       "      <th>50%</th>\n",
       "      <th>75%</th>\n",
       "      <th>max</th>\n",
       "    </tr>\n",
       "    <tr>\n",
       "      <th>FrequenciaCluster</th>\n",
       "      <th></th>\n",
       "      <th></th>\n",
       "      <th></th>\n",
       "      <th></th>\n",
       "      <th></th>\n",
       "      <th></th>\n",
       "      <th></th>\n",
       "      <th></th>\n",
       "    </tr>\n",
       "  </thead>\n",
       "  <tbody>\n",
       "    <tr>\n",
       "      <th>0</th>\n",
       "      <td>106570.0</td>\n",
       "      <td>1.306343</td>\n",
       "      <td>0.570539</td>\n",
       "      <td>0.0</td>\n",
       "      <td>1.0</td>\n",
       "      <td>1.0</td>\n",
       "      <td>2.0</td>\n",
       "      <td>3.0</td>\n",
       "    </tr>\n",
       "    <tr>\n",
       "      <th>1</th>\n",
       "      <td>75.0</td>\n",
       "      <td>75.000000</td>\n",
       "      <td>0.000000</td>\n",
       "      <td>75.0</td>\n",
       "      <td>75.0</td>\n",
       "      <td>75.0</td>\n",
       "      <td>75.0</td>\n",
       "      <td>75.0</td>\n",
       "    </tr>\n",
       "    <tr>\n",
       "      <th>2</th>\n",
       "      <td>731.0</td>\n",
       "      <td>21.489740</td>\n",
       "      <td>6.588977</td>\n",
       "      <td>14.0</td>\n",
       "      <td>15.0</td>\n",
       "      <td>21.0</td>\n",
       "      <td>24.0</td>\n",
       "      <td>38.0</td>\n",
       "    </tr>\n",
       "    <tr>\n",
       "      <th>3</th>\n",
       "      <td>9205.0</td>\n",
       "      <td>5.644432</td>\n",
       "      <td>2.138491</td>\n",
       "      <td>4.0</td>\n",
       "      <td>4.0</td>\n",
       "      <td>5.0</td>\n",
       "      <td>6.0</td>\n",
       "      <td>13.0</td>\n",
       "    </tr>\n",
       "  </tbody>\n",
       "</table>\n",
       "</div>"
      ],
      "text/plain": [
       "                      count       mean       std   min   25%   50%   75%   max\n",
       "FrequenciaCluster                                                             \n",
       "0                  106570.0   1.306343  0.570539   0.0   1.0   1.0   2.0   3.0\n",
       "1                      75.0  75.000000  0.000000  75.0  75.0  75.0  75.0  75.0\n",
       "2                     731.0  21.489740  6.588977  14.0  15.0  21.0  24.0  38.0\n",
       "3                    9205.0   5.644432  2.138491   4.0   4.0   5.0   6.0  13.0"
      ]
     },
     "execution_count": 62,
     "metadata": {},
     "output_type": "execute_result"
    }
   ],
   "source": [
    "# ordena os clusters de frequência\n",
    "df_usuario.groupby('FrequenciaCluster')['Frequencia'].describe()"
   ]
  },
  {
   "cell_type": "code",
   "execution_count": 63,
   "metadata": {},
   "outputs": [],
   "source": [
    "#calcula a receita para cada cliente\n",
    "df_receita = df.groupby('id_unico_cliente').pagamento_valor.sum().reset_index()\n",
    "\n",
    "#junta com o df principal\n",
    "df_usuario = pd.merge(df_usuario, df_receita, on='id_unico_cliente')"
   ]
  },
  {
   "cell_type": "code",
   "execution_count": 64,
   "metadata": {},
   "outputs": [],
   "source": [
    "# rodando o kmeans para nossa quantidade ótima de clusters\n",
    "df_pagamento = df_usuario[['pagamento_valor']]\n",
    "kmeans = KMeans(n_clusters=4)\n",
    "df_usuario['ReceitaCluster'] = kmeans.fit_predict(df_pagamento)"
   ]
  },
  {
   "cell_type": "code",
   "execution_count": 65,
   "metadata": {},
   "outputs": [
    {
     "data": {
      "text/html": [
       "<div>\n",
       "<style scoped>\n",
       "    .dataframe tbody tr th:only-of-type {\n",
       "        vertical-align: middle;\n",
       "    }\n",
       "\n",
       "    .dataframe tbody tr th {\n",
       "        vertical-align: top;\n",
       "    }\n",
       "\n",
       "    .dataframe thead th {\n",
       "        text-align: right;\n",
       "    }\n",
       "</style>\n",
       "<table border=\"1\" class=\"dataframe\">\n",
       "  <thead>\n",
       "    <tr style=\"text-align: right;\">\n",
       "      <th></th>\n",
       "      <th>count</th>\n",
       "      <th>mean</th>\n",
       "      <th>std</th>\n",
       "      <th>min</th>\n",
       "      <th>25%</th>\n",
       "      <th>50%</th>\n",
       "      <th>75%</th>\n",
       "      <th>max</th>\n",
       "    </tr>\n",
       "    <tr>\n",
       "      <th>ReceitaCluster</th>\n",
       "      <th></th>\n",
       "      <th></th>\n",
       "      <th></th>\n",
       "      <th></th>\n",
       "      <th></th>\n",
       "      <th></th>\n",
       "      <th></th>\n",
       "      <th></th>\n",
       "    </tr>\n",
       "  </thead>\n",
       "  <tbody>\n",
       "    <tr>\n",
       "      <th>0</th>\n",
       "      <td>114763.0</td>\n",
       "      <td>258.095126</td>\n",
       "      <td>364.892800</td>\n",
       "      <td>9.59</td>\n",
       "      <td>69.90</td>\n",
       "      <td>132.57</td>\n",
       "      <td>269.10</td>\n",
       "      <td>2950.16</td>\n",
       "    </tr>\n",
       "    <tr>\n",
       "      <th>1</th>\n",
       "      <td>191.0</td>\n",
       "      <td>27358.656911</td>\n",
       "      <td>10032.832924</td>\n",
       "      <td>17069.76</td>\n",
       "      <td>19167.26</td>\n",
       "      <td>25051.89</td>\n",
       "      <td>30186.00</td>\n",
       "      <td>45256.00</td>\n",
       "    </tr>\n",
       "    <tr>\n",
       "      <th>2</th>\n",
       "      <td>1619.0</td>\n",
       "      <td>5650.053385</td>\n",
       "      <td>2881.999747</td>\n",
       "      <td>2951.83</td>\n",
       "      <td>3557.12</td>\n",
       "      <td>4491.44</td>\n",
       "      <td>6914.63</td>\n",
       "      <td>16313.60</td>\n",
       "    </tr>\n",
       "    <tr>\n",
       "      <th>3</th>\n",
       "      <td>8.0</td>\n",
       "      <td>109312.640000</td>\n",
       "      <td>0.000000</td>\n",
       "      <td>109312.64</td>\n",
       "      <td>109312.64</td>\n",
       "      <td>109312.64</td>\n",
       "      <td>109312.64</td>\n",
       "      <td>109312.64</td>\n",
       "    </tr>\n",
       "  </tbody>\n",
       "</table>\n",
       "</div>"
      ],
      "text/plain": [
       "                   count           mean           std        min        25%  \\\n",
       "ReceitaCluster                                                                \n",
       "0               114763.0     258.095126    364.892800       9.59      69.90   \n",
       "1                  191.0   27358.656911  10032.832924   17069.76   19167.26   \n",
       "2                 1619.0    5650.053385   2881.999747    2951.83    3557.12   \n",
       "3                    8.0  109312.640000      0.000000  109312.64  109312.64   \n",
       "\n",
       "                      50%        75%        max  \n",
       "ReceitaCluster                                   \n",
       "0                  132.57     269.10    2950.16  \n",
       "1                25051.89   30186.00   45256.00  \n",
       "2                 4491.44    6914.63   16313.60  \n",
       "3               109312.64  109312.64  109312.64  "
      ]
     },
     "execution_count": 65,
     "metadata": {},
     "output_type": "execute_result"
    }
   ],
   "source": [
    "#ordena os clusters\n",
    "df_usuario.groupby('ReceitaCluster')['pagamento_valor'].describe()"
   ]
  },
  {
   "cell_type": "code",
   "execution_count": 66,
   "metadata": {},
   "outputs": [
    {
     "data": {
      "text/html": [
       "<div>\n",
       "<style scoped>\n",
       "    .dataframe tbody tr th:only-of-type {\n",
       "        vertical-align: middle;\n",
       "    }\n",
       "\n",
       "    .dataframe tbody tr th {\n",
       "        vertical-align: top;\n",
       "    }\n",
       "\n",
       "    .dataframe thead th {\n",
       "        text-align: right;\n",
       "    }\n",
       "</style>\n",
       "<table border=\"1\" class=\"dataframe\">\n",
       "  <thead>\n",
       "    <tr style=\"text-align: right;\">\n",
       "      <th></th>\n",
       "      <th>id_unico_cliente</th>\n",
       "      <th>Recencia</th>\n",
       "      <th>RecenciaCluster</th>\n",
       "      <th>Frequencia</th>\n",
       "      <th>FrequenciaCluster</th>\n",
       "      <th>pagamento_valor</th>\n",
       "      <th>ReceitaCluster</th>\n",
       "    </tr>\n",
       "  </thead>\n",
       "  <tbody>\n",
       "    <tr>\n",
       "      <th>0</th>\n",
       "      <td>861eff4711a542e4b93843c6dd7febb0</td>\n",
       "      <td>474</td>\n",
       "      <td>0</td>\n",
       "      <td>1</td>\n",
       "      <td>0</td>\n",
       "      <td>146.87</td>\n",
       "      <td>0</td>\n",
       "    </tr>\n",
       "    <tr>\n",
       "      <th>1</th>\n",
       "      <td>3c799d181c34d51f6d44bbbc563024db</td>\n",
       "      <td>483</td>\n",
       "      <td>0</td>\n",
       "      <td>1</td>\n",
       "      <td>0</td>\n",
       "      <td>140.61</td>\n",
       "      <td>0</td>\n",
       "    </tr>\n",
       "    <tr>\n",
       "      <th>2</th>\n",
       "      <td>567ab47ca4deb92d46dbf54dce07d0a7</td>\n",
       "      <td>528</td>\n",
       "      <td>0</td>\n",
       "      <td>1</td>\n",
       "      <td>0</td>\n",
       "      <td>142.05</td>\n",
       "      <td>0</td>\n",
       "    </tr>\n",
       "    <tr>\n",
       "      <th>3</th>\n",
       "      <td>f40ab89b622248b7ca125af4b486b887</td>\n",
       "      <td>474</td>\n",
       "      <td>0</td>\n",
       "      <td>1</td>\n",
       "      <td>0</td>\n",
       "      <td>155.70</td>\n",
       "      <td>0</td>\n",
       "    </tr>\n",
       "    <tr>\n",
       "      <th>4</th>\n",
       "      <td>749943913a9851a39c9baf51877fbab6</td>\n",
       "      <td>533</td>\n",
       "      <td>0</td>\n",
       "      <td>1</td>\n",
       "      <td>0</td>\n",
       "      <td>148.33</td>\n",
       "      <td>0</td>\n",
       "    </tr>\n",
       "  </tbody>\n",
       "</table>\n",
       "</div>"
      ],
      "text/plain": [
       "                   id_unico_cliente  Recencia  RecenciaCluster  Frequencia  \\\n",
       "0  861eff4711a542e4b93843c6dd7febb0       474                0           1   \n",
       "1  3c799d181c34d51f6d44bbbc563024db       483                0           1   \n",
       "2  567ab47ca4deb92d46dbf54dce07d0a7       528                0           1   \n",
       "3  f40ab89b622248b7ca125af4b486b887       474                0           1   \n",
       "4  749943913a9851a39c9baf51877fbab6       533                0           1   \n",
       "\n",
       "   FrequenciaCluster  pagamento_valor  ReceitaCluster  \n",
       "0                  0           146.87               0  \n",
       "1                  0           140.61               0  \n",
       "2                  0           142.05               0  \n",
       "3                  0           155.70               0  \n",
       "4                  0           148.33               0  "
      ]
     },
     "execution_count": 66,
     "metadata": {},
     "output_type": "execute_result"
    }
   ],
   "source": [
    "df_final = df_usuario.drop(['id_cliente','horario_pedido','item_id','preco'],axis=1)\n",
    "df_final.head()"
   ]
  },
  {
   "cell_type": "code",
   "execution_count": 67,
   "metadata": {},
   "outputs": [],
   "source": [
    "#renomeando as colunas\n",
    "df_final.columns = ['Id_unico_cliente', 'Recencia', 'RecenciaCluster', 'Frequencia', 'FrequenciaCluster', 'Receita', 'ReceitaCluster']"
   ]
  },
  {
   "cell_type": "code",
   "execution_count": 68,
   "metadata": {},
   "outputs": [
    {
     "data": {
      "text/html": [
       "<div>\n",
       "<style scoped>\n",
       "    .dataframe tbody tr th:only-of-type {\n",
       "        vertical-align: middle;\n",
       "    }\n",
       "\n",
       "    .dataframe tbody tr th {\n",
       "        vertical-align: top;\n",
       "    }\n",
       "\n",
       "    .dataframe thead th {\n",
       "        text-align: right;\n",
       "    }\n",
       "</style>\n",
       "<table border=\"1\" class=\"dataframe\">\n",
       "  <thead>\n",
       "    <tr style=\"text-align: right;\">\n",
       "      <th></th>\n",
       "      <th>Id_unico_cliente</th>\n",
       "      <th>Recencia</th>\n",
       "      <th>RecenciaCluster</th>\n",
       "      <th>Frequencia</th>\n",
       "      <th>FrequenciaCluster</th>\n",
       "      <th>Receita</th>\n",
       "      <th>ReceitaCluster</th>\n",
       "    </tr>\n",
       "  </thead>\n",
       "  <tbody>\n",
       "    <tr>\n",
       "      <th>0</th>\n",
       "      <td>861eff4711a542e4b93843c6dd7febb0</td>\n",
       "      <td>474</td>\n",
       "      <td>0</td>\n",
       "      <td>1</td>\n",
       "      <td>0</td>\n",
       "      <td>146.87</td>\n",
       "      <td>0</td>\n",
       "    </tr>\n",
       "    <tr>\n",
       "      <th>1</th>\n",
       "      <td>3c799d181c34d51f6d44bbbc563024db</td>\n",
       "      <td>483</td>\n",
       "      <td>0</td>\n",
       "      <td>1</td>\n",
       "      <td>0</td>\n",
       "      <td>140.61</td>\n",
       "      <td>0</td>\n",
       "    </tr>\n",
       "    <tr>\n",
       "      <th>2</th>\n",
       "      <td>567ab47ca4deb92d46dbf54dce07d0a7</td>\n",
       "      <td>528</td>\n",
       "      <td>0</td>\n",
       "      <td>1</td>\n",
       "      <td>0</td>\n",
       "      <td>142.05</td>\n",
       "      <td>0</td>\n",
       "    </tr>\n",
       "    <tr>\n",
       "      <th>3</th>\n",
       "      <td>f40ab89b622248b7ca125af4b486b887</td>\n",
       "      <td>474</td>\n",
       "      <td>0</td>\n",
       "      <td>1</td>\n",
       "      <td>0</td>\n",
       "      <td>155.70</td>\n",
       "      <td>0</td>\n",
       "    </tr>\n",
       "    <tr>\n",
       "      <th>4</th>\n",
       "      <td>749943913a9851a39c9baf51877fbab6</td>\n",
       "      <td>533</td>\n",
       "      <td>0</td>\n",
       "      <td>1</td>\n",
       "      <td>0</td>\n",
       "      <td>148.33</td>\n",
       "      <td>0</td>\n",
       "    </tr>\n",
       "  </tbody>\n",
       "</table>\n",
       "</div>"
      ],
      "text/plain": [
       "                   Id_unico_cliente  Recencia  RecenciaCluster  Frequencia  \\\n",
       "0  861eff4711a542e4b93843c6dd7febb0       474                0           1   \n",
       "1  3c799d181c34d51f6d44bbbc563024db       483                0           1   \n",
       "2  567ab47ca4deb92d46dbf54dce07d0a7       528                0           1   \n",
       "3  f40ab89b622248b7ca125af4b486b887       474                0           1   \n",
       "4  749943913a9851a39c9baf51877fbab6       533                0           1   \n",
       "\n",
       "   FrequenciaCluster  Receita  ReceitaCluster  \n",
       "0                  0   146.87               0  \n",
       "1                  0   140.61               0  \n",
       "2                  0   142.05               0  \n",
       "3                  0   155.70               0  \n",
       "4                  0   148.33               0  "
      ]
     },
     "execution_count": 68,
     "metadata": {},
     "output_type": "execute_result"
    }
   ],
   "source": [
    "df_final.head()"
   ]
  },
  {
   "cell_type": "code",
   "execution_count": 69,
   "metadata": {},
   "outputs": [],
   "source": [
    "df_final = ordenar_cluster('FrequenciaCluster', 'ReceitaCluster',df_final,False)"
   ]
  },
  {
   "cell_type": "markdown",
   "metadata": {},
   "source": [
    "> Calcularemos a pontuação geral do cliente baseado nesses clusters e também definimos 4 opções: inativo, business, master e premium. "
   ]
  },
  {
   "cell_type": "code",
   "execution_count": 70,
   "metadata": {},
   "outputs": [
    {
     "data": {
      "text/html": [
       "<div>\n",
       "<style scoped>\n",
       "    .dataframe tbody tr th:only-of-type {\n",
       "        vertical-align: middle;\n",
       "    }\n",
       "\n",
       "    .dataframe tbody tr th {\n",
       "        vertical-align: top;\n",
       "    }\n",
       "\n",
       "    .dataframe thead th {\n",
       "        text-align: right;\n",
       "    }\n",
       "</style>\n",
       "<table border=\"1\" class=\"dataframe\">\n",
       "  <thead>\n",
       "    <tr style=\"text-align: right;\">\n",
       "      <th></th>\n",
       "      <th>Id_unico_cliente</th>\n",
       "      <th>Recencia</th>\n",
       "      <th>RecenciaCluster</th>\n",
       "      <th>Frequencia</th>\n",
       "      <th>Receita</th>\n",
       "      <th>ReceitaCluster</th>\n",
       "      <th>FrequenciaCluster</th>\n",
       "      <th>Pontuacao</th>\n",
       "    </tr>\n",
       "  </thead>\n",
       "  <tbody>\n",
       "    <tr>\n",
       "      <th>0</th>\n",
       "      <td>861eff4711a542e4b93843c6dd7febb0</td>\n",
       "      <td>474</td>\n",
       "      <td>0</td>\n",
       "      <td>1</td>\n",
       "      <td>146.87</td>\n",
       "      <td>0</td>\n",
       "      <td>2</td>\n",
       "      <td>0</td>\n",
       "    </tr>\n",
       "    <tr>\n",
       "      <th>1</th>\n",
       "      <td>3c799d181c34d51f6d44bbbc563024db</td>\n",
       "      <td>483</td>\n",
       "      <td>0</td>\n",
       "      <td>1</td>\n",
       "      <td>140.61</td>\n",
       "      <td>0</td>\n",
       "      <td>2</td>\n",
       "      <td>0</td>\n",
       "    </tr>\n",
       "    <tr>\n",
       "      <th>2</th>\n",
       "      <td>567ab47ca4deb92d46dbf54dce07d0a7</td>\n",
       "      <td>528</td>\n",
       "      <td>0</td>\n",
       "      <td>1</td>\n",
       "      <td>142.05</td>\n",
       "      <td>0</td>\n",
       "      <td>2</td>\n",
       "      <td>0</td>\n",
       "    </tr>\n",
       "    <tr>\n",
       "      <th>3</th>\n",
       "      <td>f40ab89b622248b7ca125af4b486b887</td>\n",
       "      <td>474</td>\n",
       "      <td>0</td>\n",
       "      <td>1</td>\n",
       "      <td>155.70</td>\n",
       "      <td>0</td>\n",
       "      <td>2</td>\n",
       "      <td>0</td>\n",
       "    </tr>\n",
       "    <tr>\n",
       "      <th>4</th>\n",
       "      <td>749943913a9851a39c9baf51877fbab6</td>\n",
       "      <td>533</td>\n",
       "      <td>0</td>\n",
       "      <td>1</td>\n",
       "      <td>148.33</td>\n",
       "      <td>0</td>\n",
       "      <td>2</td>\n",
       "      <td>0</td>\n",
       "    </tr>\n",
       "  </tbody>\n",
       "</table>\n",
       "</div>"
      ],
      "text/plain": [
       "                   Id_unico_cliente  Recencia  RecenciaCluster  Frequencia  \\\n",
       "0  861eff4711a542e4b93843c6dd7febb0       474                0           1   \n",
       "1  3c799d181c34d51f6d44bbbc563024db       483                0           1   \n",
       "2  567ab47ca4deb92d46dbf54dce07d0a7       528                0           1   \n",
       "3  f40ab89b622248b7ca125af4b486b887       474                0           1   \n",
       "4  749943913a9851a39c9baf51877fbab6       533                0           1   \n",
       "\n",
       "   Receita  ReceitaCluster  FrequenciaCluster  Pontuacao  \n",
       "0   146.87               0                  2          0  \n",
       "1   140.61               0                  2          0  \n",
       "2   142.05               0                  2          0  \n",
       "3   155.70               0                  2          0  \n",
       "4   148.33               0                  2          0  "
      ]
     },
     "execution_count": 70,
     "metadata": {},
     "output_type": "execute_result"
    }
   ],
   "source": [
    "df_final['Pontuacao'] = df_usuario['RecenciaCluster'] + df_usuario['FrequenciaCluster'] + df_usuario['ReceitaCluster']\n",
    "df_final.groupby('Pontuacao')['Recencia','Frequencia','Receita'].mean()\n",
    "df_final.head()"
   ]
  },
  {
   "cell_type": "code",
   "execution_count": 71,
   "metadata": {},
   "outputs": [],
   "source": [
    "df_final['Segmento'] = 'Inativo'"
   ]
  },
  {
   "cell_type": "code",
   "execution_count": 72,
   "metadata": {},
   "outputs": [],
   "source": [
    "df_final.loc[df_final['Pontuacao']>=3,'Segmento'] = 'Business' \n",
    "df_final.loc[df_final['Pontuacao']>=6,'Segmento'] = 'Master' \n",
    "df_final.loc[df_final['Pontuacao']>=8,'Segmento'] = 'Premium' "
   ]
  },
  {
   "cell_type": "code",
   "execution_count": 73,
   "metadata": {},
   "outputs": [],
   "source": [
    "df_final.to_csv('RFM.csv')"
   ]
  },
  {
   "cell_type": "code",
   "execution_count": 99,
   "metadata": {},
   "outputs": [],
   "source": [
    "def plot_segmento(x,y,data):\n",
    "    sns.set(palette='muted', color_codes=True, style='whitegrid')\n",
    "    fig, axs = plt.subplots(1, 1, figsize=(7, 5))\n",
    "    sns.despine(left=True)\n",
    "    sns.scatterplot(x=x, y=y, hue='Segmento', data=data, size='Segmento', sizes=(50,150), size_order=['Premium','Master','Business','Inativo'])\n",
    "    axs.set_title('Segmento de Cliente')\n",
    "    plt.show()"
   ]
  },
  {
   "cell_type": "code",
   "execution_count": 100,
   "metadata": {},
   "outputs": [
    {
     "data": {
      "image/png": "[encoded data removed]",
      "text/plain": [
       "<Figure size 504x360 with 1 Axes>"
      ]
     },
     "metadata": {},
     "output_type": "display_data"
    }
   ],
   "source": [
    "plot_segmento('Recencia','Frequencia',df_final)"
   ]
  },
  {
   "cell_type": "code",
   "execution_count": 96,
   "metadata": {},
   "outputs": [
    {
     "data": {
      "image/png": "[encoded data removed]",
      "text/plain": [
       "<Figure size 432x432 with 1 Axes>"
      ]
     },
     "metadata": {},
     "output_type": "display_data"
    }
   ],
   "source": [
    "plot_segmento('Frequencia','Receita',df_final)"
   ]
  },
  {
   "cell_type": "code",
   "execution_count": 97,
   "metadata": {},
   "outputs": [
    {
     "data": {
      "image/png": "[encoded data removed]",
      "text/plain": [
       "<Figure size 432x432 with 1 Axes>"
      ]
     },
     "metadata": {},
     "output_type": "display_data"
    }
   ],
   "source": [
    "plot_segmento('Recencia','Receita',df_final)"
   ]
  },
  {
   "cell_type": "code",
   "execution_count": 98,
   "metadata": {},
   "outputs": [
    {
     "data": {
      "text/plain": [
       "<matplotlib.axes._subplots.AxesSubplot at 0x7f2b50cabb70>"
      ]
     },
     "execution_count": 98,
     "metadata": {},
     "output_type": "execute_result"
    },
    {
     "data": {
      "image/png": "[encoded data removed]",
      "text/plain": [
       "<Figure size 432x288 with 1 Axes>"
      ]
     },
     "metadata": {},
     "output_type": "display_data"
    }
   ],
   "source": [
    "sns.countplot(df_final['Segmento'])"
   ]
  },
  {
   "cell_type": "markdown",
   "metadata": {},
   "source": [
    "> Neste curso, aprendemos então um dos métodos mais utilizados de cliusterização, o K-means, e também como podemos determinar matematicamente o melhor número de clientes. Por fim, conseguimos dividir os clientes com base em seu comportamento. Podemos também criar outros tipos de segmentação com base nas campanhas de marketing que queremos explorar. É importante ressaltar que esse é apenas um dos vários métodos de clusterização e que existem outros tipos de algoritmos e de separações que podemos fazer. Neste caso, fizemos uma clusterização com base na pontuação, ou seja, clientes que compram muito, mas com pouca frequência podem acabar tendo uma pontuação semelhante aos que gastam menos, mas com mais frequência. Para fazer uma análise mais completa, poderíamos criar uma tabela inteira se nos basearmos em uma pontuação de 1 a 5 como o exemplo abaixo:"
   ]
  },
  {
   "cell_type": "markdown",
   "metadata": {},
   "source": [
    "| **Segmentos**        | **Descrição**                                                      | **Recência** | **Frequência** | **Receita** |\n",
    "|----------------------|--------------------------------------------------------------------|--------------|----------------|-------------|\n",
    "| Campeões             | Compraram recentemente, compram com frequência e gastam muito      | 4-5          | 4-5            | 4-5         |\n",
    "| Clientes fiéis       | Gastam muito e respondem a promoções                               | 2-5          | 3-5            | 3-5         |\n",
    "| Potencialmente fiéis | Compraram recentemente, mais de uma vez e gastaram uma boa quantia | 3-5          | 1-3            | 1-3         |\n",
    "| Novos clientes       | Compraram recentemente, mas não compram com frequência             | 4-5          | <=1            | <=1         |\n",
    "| Promissores          | Compraram recentemente, mas não gastaram muito                     | 3-4          | <=1            | <=1         |\n",
    "| Precisam de atenção  | Recência, frequência e valor monetário acima da média              | 2-3          | 2-3            | 2-3         |\n",
    "| Quase em risco       | Recência, frequência e valor monetário abaixo da média             | 2-3          | <=2            | <=2         |\n",
    "| De risco             | Gastaram muito, compraram muitas vezes, mas há muito tempo         | <=2          | 2-5            | 2-5         |\n",
    "| Não pode perdê-los   | Compraram muito e com frequência, mas há muito tempo               | <=1          | 4-5            | 4-5         |\n",
    "| Hibernando           | Compraram pouco, com baixa frequência e há muito tempo             | 1-2          | 1-2            | 1-2         |\n",
    "| Perdidos             | Recência, frequência e valores monetários baixos                   | <=2          | <=2            | <=2         |"
   ]
  },
  {
   "cell_type": "code",
   "execution_count": null,
   "metadata": {},
   "outputs": [],
   "source": []
  },
  {
   "cell_type": "code",
   "execution_count": null,
   "metadata": {},
   "outputs": [],
   "source": []
  }
 ],
 "metadata": {
  "kernelspec": {
   "display_name": "Python 3",
   "language": "python",
   "name": "python3"
  },
  "language_info": {
   "codemirror_mode": {
    "name": "ipython",
    "version": 3
   },
   "file_extension": ".py",
   "mimetype": "text/x-python",
   "name": "python",
   "nbconvert_exporter": "python",
   "pygments_lexer": "ipython3",
   "version": "3.6.9"
  }
 },
 "nbformat": 4,
 "nbformat_minor": 4
}
